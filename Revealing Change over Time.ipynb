{
 "cells": [
  {
   "cell_type": "code",
   "execution_count": 89,
   "metadata": {
    "collapsed": true
   },
   "outputs": [],
   "source": [
    "import pandas as pd\n",
    "import numpy as np\n",
    "import matplotlib.pyplot as plt\n",
    "import seaborn as sns\n",
    "import itertools\n",
    "% matplotlib inline\n",
    "from scipy import stats\n",
    "from numpy import nanmean\n"
   ]
  },
  {
   "cell_type": "markdown",
   "metadata": {},
   "source": [
    "## Q1: Using Music Sales.csvPreview the document, make a time series plot for sales in US and Canada. Here is a useful resource (Links to an external site.)Links to an external site.. "
   ]
  },
  {
   "cell_type": "code",
   "execution_count": 2,
   "metadata": {
    "collapsed": true
   },
   "outputs": [],
   "source": [
    "music = pd.read_csv(\"Music Sales.csv\")"
   ]
  },
  {
   "cell_type": "code",
   "execution_count": 3,
   "metadata": {},
   "outputs": [
    {
     "data": {
      "text/html": [
       "<div>\n",
       "<style scoped>\n",
       "    .dataframe tbody tr th:only-of-type {\n",
       "        vertical-align: middle;\n",
       "    }\n",
       "\n",
       "    .dataframe tbody tr th {\n",
       "        vertical-align: top;\n",
       "    }\n",
       "\n",
       "    .dataframe thead th {\n",
       "        text-align: right;\n",
       "    }\n",
       "</style>\n",
       "<table border=\"1\" class=\"dataframe\">\n",
       "  <thead>\n",
       "    <tr style=\"text-align: right;\">\n",
       "      <th></th>\n",
       "      <th>Album</th>\n",
       "      <th>Artist</th>\n",
       "      <th>Bytes</th>\n",
       "      <th>Sales</th>\n",
       "      <th>City</th>\n",
       "      <th>Company</th>\n",
       "      <th>Composer</th>\n",
       "      <th>Country</th>\n",
       "      <th>CustomerID</th>\n",
       "      <th>Email</th>\n",
       "      <th>...</th>\n",
       "      <th>MediaType</th>\n",
       "      <th>Milliseconds</th>\n",
       "      <th>Number of Records</th>\n",
       "      <th>Phone</th>\n",
       "      <th>PostalCode</th>\n",
       "      <th>Quantity</th>\n",
       "      <th>Region</th>\n",
       "      <th>State</th>\n",
       "      <th>Track</th>\n",
       "      <th>UnitPrice</th>\n",
       "    </tr>\n",
       "  </thead>\n",
       "  <tbody>\n",
       "    <tr>\n",
       "      <th>0</th>\n",
       "      <td>Balls to the Wall</td>\n",
       "      <td>Accept</td>\n",
       "      <td>5.51M</td>\n",
       "      <td>3.96</td>\n",
       "      <td>Stuttgart</td>\n",
       "      <td>NaN</td>\n",
       "      <td>NaN</td>\n",
       "      <td>Germany</td>\n",
       "      <td>2</td>\n",
       "      <td>leonekohler@surfeu.de</td>\n",
       "      <td>...</td>\n",
       "      <td>Protected AAC audio file</td>\n",
       "      <td>342562</td>\n",
       "      <td>1</td>\n",
       "      <td>+49 0711 2842222</td>\n",
       "      <td>70174</td>\n",
       "      <td>4</td>\n",
       "      <td>Europe</td>\n",
       "      <td>NaN</td>\n",
       "      <td>Balls to the Wall</td>\n",
       "      <td>0.99</td>\n",
       "    </tr>\n",
       "    <tr>\n",
       "      <th>1</th>\n",
       "      <td>Restless and Wild</td>\n",
       "      <td>Accept</td>\n",
       "      <td>4.33M</td>\n",
       "      <td>3.96</td>\n",
       "      <td>Stuttgart</td>\n",
       "      <td>NaN</td>\n",
       "      <td>F. Baltes, R.A. Smith-Diesel, S. Kaufman, U. D...</td>\n",
       "      <td>Germany</td>\n",
       "      <td>2</td>\n",
       "      <td>leonekohler@surfeu.de</td>\n",
       "      <td>...</td>\n",
       "      <td>Protected AAC audio file</td>\n",
       "      <td>252051</td>\n",
       "      <td>1</td>\n",
       "      <td>+49 0711 2842222</td>\n",
       "      <td>70174</td>\n",
       "      <td>4</td>\n",
       "      <td>Europe</td>\n",
       "      <td>NaN</td>\n",
       "      <td>Restless and Wild</td>\n",
       "      <td>0.99</td>\n",
       "    </tr>\n",
       "    <tr>\n",
       "      <th>2</th>\n",
       "      <td>For Those About To Rock We Salute You</td>\n",
       "      <td>AC/DC</td>\n",
       "      <td>8.60M</td>\n",
       "      <td>0.99</td>\n",
       "      <td>Oslo</td>\n",
       "      <td>NaN</td>\n",
       "      <td>Angus Young, Malcolm Young, Brian Johnson</td>\n",
       "      <td>Norway</td>\n",
       "      <td>4</td>\n",
       "      <td>bjorn.hansen@yahoo.no</td>\n",
       "      <td>...</td>\n",
       "      <td>MPEG audio file</td>\n",
       "      <td>263288</td>\n",
       "      <td>1</td>\n",
       "      <td>+47 22 44 22 22</td>\n",
       "      <td>171</td>\n",
       "      <td>1</td>\n",
       "      <td>Europe</td>\n",
       "      <td>NaN</td>\n",
       "      <td>Breaking The Rules</td>\n",
       "      <td>0.99</td>\n",
       "    </tr>\n",
       "    <tr>\n",
       "      <th>3</th>\n",
       "      <td>For Those About To Rock We Salute You</td>\n",
       "      <td>AC/DC</td>\n",
       "      <td>6.85M</td>\n",
       "      <td>1.98</td>\n",
       "      <td>Oslo</td>\n",
       "      <td>NaN</td>\n",
       "      <td>Angus Young, Malcolm Young, Brian Johnson</td>\n",
       "      <td>Norway</td>\n",
       "      <td>4</td>\n",
       "      <td>bjorn.hansen@yahoo.no</td>\n",
       "      <td>...</td>\n",
       "      <td>MPEG audio file</td>\n",
       "      <td>210834</td>\n",
       "      <td>1</td>\n",
       "      <td>+47 22 44 22 22</td>\n",
       "      <td>171</td>\n",
       "      <td>2</td>\n",
       "      <td>Europe</td>\n",
       "      <td>NaN</td>\n",
       "      <td>Inject The Venom</td>\n",
       "      <td>0.99</td>\n",
       "    </tr>\n",
       "    <tr>\n",
       "      <th>4</th>\n",
       "      <td>For Those About To Rock We Salute You</td>\n",
       "      <td>AC/DC</td>\n",
       "      <td>8.61M</td>\n",
       "      <td>1.98</td>\n",
       "      <td>Oslo</td>\n",
       "      <td>NaN</td>\n",
       "      <td>Angus Young, Malcolm Young, Brian Johnson</td>\n",
       "      <td>Norway</td>\n",
       "      <td>4</td>\n",
       "      <td>bjorn.hansen@yahoo.no</td>\n",
       "      <td>...</td>\n",
       "      <td>MPEG audio file</td>\n",
       "      <td>263497</td>\n",
       "      <td>1</td>\n",
       "      <td>+47 22 44 22 22</td>\n",
       "      <td>171</td>\n",
       "      <td>2</td>\n",
       "      <td>Europe</td>\n",
       "      <td>NaN</td>\n",
       "      <td>Evil Walks</td>\n",
       "      <td>0.99</td>\n",
       "    </tr>\n",
       "  </tbody>\n",
       "</table>\n",
       "<p>5 rows × 25 columns</p>\n",
       "</div>"
      ],
      "text/plain": [
       "                                   Album  Artist  Bytes  Sales       City  \\\n",
       "0                      Balls to the Wall  Accept  5.51M   3.96  Stuttgart   \n",
       "1                      Restless and Wild  Accept  4.33M   3.96  Stuttgart   \n",
       "2  For Those About To Rock We Salute You   AC/DC  8.60M   0.99       Oslo   \n",
       "3  For Those About To Rock We Salute You   AC/DC  6.85M   1.98       Oslo   \n",
       "4  For Those About To Rock We Salute You   AC/DC  8.61M   1.98       Oslo   \n",
       "\n",
       "  Company                                           Composer  Country  \\\n",
       "0     NaN                                                NaN  Germany   \n",
       "1     NaN  F. Baltes, R.A. Smith-Diesel, S. Kaufman, U. D...  Germany   \n",
       "2     NaN          Angus Young, Malcolm Young, Brian Johnson   Norway   \n",
       "3     NaN          Angus Young, Malcolm Young, Brian Johnson   Norway   \n",
       "4     NaN          Angus Young, Malcolm Young, Brian Johnson   Norway   \n",
       "\n",
       "   CustomerID                  Email  ...                 MediaType  \\\n",
       "0           2  leonekohler@surfeu.de  ...  Protected AAC audio file   \n",
       "1           2  leonekohler@surfeu.de  ...  Protected AAC audio file   \n",
       "2           4  bjorn.hansen@yahoo.no  ...           MPEG audio file   \n",
       "3           4  bjorn.hansen@yahoo.no  ...           MPEG audio file   \n",
       "4           4  bjorn.hansen@yahoo.no  ...           MPEG audio file   \n",
       "\n",
       "  Milliseconds Number of Records             Phone PostalCode Quantity  \\\n",
       "0       342562                 1  +49 0711 2842222      70174        4   \n",
       "1       252051                 1  +49 0711 2842222      70174        4   \n",
       "2       263288                 1   +47 22 44 22 22        171        1   \n",
       "3       210834                 1   +47 22 44 22 22        171        2   \n",
       "4       263497                 1   +47 22 44 22 22        171        2   \n",
       "\n",
       "   Region  State               Track UnitPrice  \n",
       "0  Europe    NaN   Balls to the Wall      0.99  \n",
       "1  Europe    NaN   Restless and Wild      0.99  \n",
       "2  Europe    NaN  Breaking The Rules      0.99  \n",
       "3  Europe    NaN    Inject The Venom      0.99  \n",
       "4  Europe    NaN          Evil Walks      0.99  \n",
       "\n",
       "[5 rows x 25 columns]"
      ]
     },
     "execution_count": 3,
     "metadata": {},
     "output_type": "execute_result"
    }
   ],
   "source": [
    "music.head()"
   ]
  },
  {
   "cell_type": "code",
   "execution_count": 4,
   "metadata": {},
   "outputs": [
    {
     "data": {
      "text/plain": [
       "USA               478\n",
       "Canada            288\n",
       "France            188\n",
       "Brazil            183\n",
       "Germany           142\n",
       "United Kingdom    111\n",
       "Czech Republic     74\n",
       "Portugal           72\n",
       "India              70\n",
       "Netherlands        38\n",
       "Poland             38\n",
       "Italy              38\n",
       "Austria            38\n",
       "Denmark            38\n",
       "Finland            38\n",
       "Hungary            38\n",
       "Chile              38\n",
       "Sweden             38\n",
       "Argentina          37\n",
       "Norway             35\n",
       "Spain              32\n",
       "Belgium            31\n",
       "Australia          30\n",
       "Ireland            30\n",
       "Name: Country, dtype: int64"
      ]
     },
     "execution_count": 4,
     "metadata": {},
     "output_type": "execute_result"
    }
   ],
   "source": [
    "music.Country.value_counts()"
   ]
  },
  {
   "cell_type": "code",
   "execution_count": 5,
   "metadata": {
    "collapsed": true
   },
   "outputs": [],
   "source": [
    "df_uc = music[(music[\"Country\"] == \"Canada\") | (music[\"Country\"] == \"USA\")]"
   ]
  },
  {
   "cell_type": "code",
   "execution_count": 6,
   "metadata": {},
   "outputs": [
    {
     "data": {
      "text/plain": [
       "USA       478\n",
       "Canada    288\n",
       "Name: Country, dtype: int64"
      ]
     },
     "execution_count": 6,
     "metadata": {},
     "output_type": "execute_result"
    }
   ],
   "source": [
    "df_uc.Country.value_counts()"
   ]
  },
  {
   "cell_type": "code",
   "execution_count": 7,
   "metadata": {},
   "outputs": [
    {
     "name": "stderr",
     "output_type": "stream",
     "text": [
      "C:\\Users\\kids1\\Anaconda3\\lib\\site-packages\\ipykernel_launcher.py:1: SettingWithCopyWarning: \n",
      "A value is trying to be set on a copy of a slice from a DataFrame.\n",
      "Try using .loc[row_indexer,col_indexer] = value instead\n",
      "\n",
      "See the caveats in the documentation: http://pandas.pydata.org/pandas-docs/stable/indexing.html#indexing-view-versus-copy\n",
      "  \"\"\"Entry point for launching an IPython kernel.\n"
     ]
    }
   ],
   "source": [
    "df_uc['RSales'] = df_uc['Quantity'] * df_uc['UnitPrice']"
   ]
  },
  {
   "cell_type": "code",
   "execution_count": 8,
   "metadata": {},
   "outputs": [
    {
     "data": {
      "text/plain": [
       "Index(['Album', 'Artist', 'Bytes', 'Sales', 'City', 'Company', 'Composer',\n",
       "       'Country', 'CustomerID', 'Email', 'FirstName', 'Genre', 'InvoiceDate',\n",
       "       'InvoiceID', 'LastName', 'MediaType', 'Milliseconds',\n",
       "       'Number of Records', 'Phone', 'PostalCode', 'Quantity', 'Region',\n",
       "       'State', 'Track', 'UnitPrice', 'RSales'],\n",
       "      dtype='object')"
      ]
     },
     "execution_count": 8,
     "metadata": {},
     "output_type": "execute_result"
    }
   ],
   "source": [
    "df_uc.columns"
   ]
  },
  {
   "cell_type": "code",
   "execution_count": 9,
   "metadata": {
    "collapsed": true
   },
   "outputs": [],
   "source": [
    "df_uc_Sale = df_uc.groupby(['Country', 'InvoiceDate'])['RSales'].agg(\"sum\")"
   ]
  },
  {
   "cell_type": "code",
   "execution_count": 10,
   "metadata": {
    "collapsed": true
   },
   "outputs": [],
   "source": [
    "df_uc_Sale =df_uc_Sale.reset_index()"
   ]
  },
  {
   "cell_type": "code",
   "execution_count": 11,
   "metadata": {},
   "outputs": [
    {
     "data": {
      "text/plain": [
       "Country         object\n",
       "InvoiceDate     object\n",
       "RSales         float64\n",
       "dtype: object"
      ]
     },
     "execution_count": 11,
     "metadata": {},
     "output_type": "execute_result"
    }
   ],
   "source": [
    "df_uc_Sale.dtypes"
   ]
  },
  {
   "cell_type": "code",
   "execution_count": 12,
   "metadata": {
    "collapsed": true
   },
   "outputs": [],
   "source": [
    "df_uc_Sale['InvoiceDate'] = pd.to_datetime(df_uc_Sale['InvoiceDate'])"
   ]
  },
  {
   "cell_type": "code",
   "execution_count": 13,
   "metadata": {
    "collapsed": true
   },
   "outputs": [],
   "source": [
    "df_uc_Sale.sort_values(by=['InvoiceDate'], inplace = True)"
   ]
  },
  {
   "cell_type": "code",
   "execution_count": 14,
   "metadata": {},
   "outputs": [
    {
     "data": {
      "text/html": [
       "<div>\n",
       "<style scoped>\n",
       "    .dataframe tbody tr th:only-of-type {\n",
       "        vertical-align: middle;\n",
       "    }\n",
       "\n",
       "    .dataframe tbody tr th {\n",
       "        vertical-align: top;\n",
       "    }\n",
       "\n",
       "    .dataframe thead th {\n",
       "        text-align: right;\n",
       "    }\n",
       "</style>\n",
       "<table border=\"1\" class=\"dataframe\">\n",
       "  <thead>\n",
       "    <tr style=\"text-align: right;\">\n",
       "      <th></th>\n",
       "      <th>Country</th>\n",
       "      <th>InvoiceDate</th>\n",
       "      <th>RSales</th>\n",
       "    </tr>\n",
       "  </thead>\n",
       "  <tbody>\n",
       "    <tr>\n",
       "      <th>5</th>\n",
       "      <td>Canada</td>\n",
       "      <td>2008-01-06</td>\n",
       "      <td>31.68</td>\n",
       "    </tr>\n",
       "    <tr>\n",
       "      <th>53</th>\n",
       "      <td>USA</td>\n",
       "      <td>2008-01-11</td>\n",
       "      <td>42.57</td>\n",
       "    </tr>\n",
       "    <tr>\n",
       "      <th>78</th>\n",
       "      <td>USA</td>\n",
       "      <td>2008-02-19</td>\n",
       "      <td>3.96</td>\n",
       "    </tr>\n",
       "    <tr>\n",
       "      <th>86</th>\n",
       "      <td>USA</td>\n",
       "      <td>2008-03-04</td>\n",
       "      <td>7.92</td>\n",
       "    </tr>\n",
       "    <tr>\n",
       "      <th>87</th>\n",
       "      <td>USA</td>\n",
       "      <td>2008-03-05</td>\n",
       "      <td>12.87</td>\n",
       "    </tr>\n",
       "    <tr>\n",
       "      <th>88</th>\n",
       "      <td>USA</td>\n",
       "      <td>2008-03-06</td>\n",
       "      <td>18.81</td>\n",
       "    </tr>\n",
       "    <tr>\n",
       "      <th>30</th>\n",
       "      <td>Canada</td>\n",
       "      <td>2008-03-09</td>\n",
       "      <td>27.72</td>\n",
       "    </tr>\n",
       "    <tr>\n",
       "      <th>90</th>\n",
       "      <td>USA</td>\n",
       "      <td>2008-04-14</td>\n",
       "      <td>30.69</td>\n",
       "    </tr>\n",
       "    <tr>\n",
       "      <th>33</th>\n",
       "      <td>Canada</td>\n",
       "      <td>2008-04-22</td>\n",
       "      <td>0.99</td>\n",
       "    </tr>\n",
       "    <tr>\n",
       "      <th>41</th>\n",
       "      <td>Canada</td>\n",
       "      <td>2008-06-05</td>\n",
       "      <td>2.97</td>\n",
       "    </tr>\n",
       "  </tbody>\n",
       "</table>\n",
       "</div>"
      ],
      "text/plain": [
       "   Country InvoiceDate  RSales\n",
       "5   Canada  2008-01-06   31.68\n",
       "53     USA  2008-01-11   42.57\n",
       "78     USA  2008-02-19    3.96\n",
       "86     USA  2008-03-04    7.92\n",
       "87     USA  2008-03-05   12.87\n",
       "88     USA  2008-03-06   18.81\n",
       "30  Canada  2008-03-09   27.72\n",
       "90     USA  2008-04-14   30.69\n",
       "33  Canada  2008-04-22    0.99\n",
       "41  Canada  2008-06-05    2.97"
      ]
     },
     "execution_count": 14,
     "metadata": {},
     "output_type": "execute_result"
    }
   ],
   "source": [
    "df_uc_Sale.head(10)"
   ]
  },
  {
   "cell_type": "code",
   "execution_count": 95,
   "metadata": {},
   "outputs": [
    {
     "data": {
      "text/plain": [
       "Text(0.5,1,'time series plot for sales in US and Canada')"
      ]
     },
     "execution_count": 95,
     "metadata": {},
     "output_type": "execute_result"
    },
    {
     "data": {
      "image/png": "[encoded data removed]",
      "text/plain": [
       "<Figure size 792x576 with 1 Axes>"
      ]
     },
     "metadata": {},
     "output_type": "display_data"
    }
   ],
   "source": [
    "sns.set(style=\"darkgrid\")\n",
    "\n",
    "# Plot the responses for different events and regions\n",
    "ax= sns.lineplot(x=\"InvoiceDate\", y=\"RSales\",\n",
    "             hue=\"Country\",\n",
    "             data=df_uc_Sale)\n",
    "sns.set(rc={'figure.figsize':(11,8)})\n",
    "ax.set_title('time series plot for sales in US and Canada')\n"
   ]
  },
  {
   "cell_type": "markdown",
   "metadata": {},
   "source": [
    "## Q2: Using Music Sales.csv, explore how Rock music monthly market share fluctuate in US in 2011 and 2012."
   ]
  },
  {
   "cell_type": "code",
   "execution_count": 46,
   "metadata": {
    "collapsed": true
   },
   "outputs": [],
   "source": [
    "df_us = music.query(\"Country == 'USA'\")"
   ]
  },
  {
   "cell_type": "code",
   "execution_count": 47,
   "metadata": {},
   "outputs": [
    {
     "name": "stderr",
     "output_type": "stream",
     "text": [
      "C:\\Users\\kids1\\Anaconda3\\lib\\site-packages\\ipykernel_launcher.py:1: SettingWithCopyWarning: \n",
      "A value is trying to be set on a copy of a slice from a DataFrame.\n",
      "Try using .loc[row_indexer,col_indexer] = value instead\n",
      "\n",
      "See the caveats in the documentation: http://pandas.pydata.org/pandas-docs/stable/indexing.html#indexing-view-versus-copy\n",
      "  \"\"\"Entry point for launching an IPython kernel.\n"
     ]
    }
   ],
   "source": [
    "df_us['InvoiceDate'] = pd.to_datetime(df_us['InvoiceDate'])"
   ]
  },
  {
   "cell_type": "code",
   "execution_count": 48,
   "metadata": {},
   "outputs": [
    {
     "name": "stderr",
     "output_type": "stream",
     "text": [
      "C:\\Users\\kids1\\Anaconda3\\lib\\site-packages\\ipykernel_launcher.py:1: SettingWithCopyWarning: \n",
      "A value is trying to be set on a copy of a slice from a DataFrame\n",
      "\n",
      "See the caveats in the documentation: http://pandas.pydata.org/pandas-docs/stable/indexing.html#indexing-view-versus-copy\n",
      "  \"\"\"Entry point for launching an IPython kernel.\n"
     ]
    }
   ],
   "source": [
    "df_us.sort_values(by=['InvoiceDate'], inplace = True)"
   ]
  },
  {
   "cell_type": "code",
   "execution_count": 49,
   "metadata": {},
   "outputs": [
    {
     "name": "stderr",
     "output_type": "stream",
     "text": [
      "C:\\Users\\kids1\\Anaconda3\\lib\\site-packages\\ipykernel_launcher.py:1: SettingWithCopyWarning: \n",
      "A value is trying to be set on a copy of a slice from a DataFrame.\n",
      "Try using .loc[row_indexer,col_indexer] = value instead\n",
      "\n",
      "See the caveats in the documentation: http://pandas.pydata.org/pandas-docs/stable/indexing.html#indexing-view-versus-copy\n",
      "  \"\"\"Entry point for launching an IPython kernel.\n"
     ]
    }
   ],
   "source": [
    "df_us['Year'] = df_us['InvoiceDate'].apply(lambda x: x.year)"
   ]
  },
  {
   "cell_type": "code",
   "execution_count": 50,
   "metadata": {},
   "outputs": [
    {
     "name": "stderr",
     "output_type": "stream",
     "text": [
      "C:\\Users\\kids1\\Anaconda3\\lib\\site-packages\\ipykernel_launcher.py:1: SettingWithCopyWarning: \n",
      "A value is trying to be set on a copy of a slice from a DataFrame.\n",
      "Try using .loc[row_indexer,col_indexer] = value instead\n",
      "\n",
      "See the caveats in the documentation: http://pandas.pydata.org/pandas-docs/stable/indexing.html#indexing-view-versus-copy\n",
      "  \"\"\"Entry point for launching an IPython kernel.\n"
     ]
    }
   ],
   "source": [
    "df_us['RSales'] = df_us['Quantity'] * df_us['UnitPrice']"
   ]
  },
  {
   "cell_type": "code",
   "execution_count": 51,
   "metadata": {
    "collapsed": true
   },
   "outputs": [],
   "source": [
    "df_year = df_us[(df_us['Year'] == 2011) | (df_us['Year'] == 2012)]"
   ]
  },
  {
   "cell_type": "code",
   "execution_count": 52,
   "metadata": {},
   "outputs": [],
   "source": [
    "df_month = df_year.groupby(by =[pd.Grouper(key ='InvoiceDate',freq='M'), 'Genre']).agg({'RSales': 'sum'})"
   ]
  },
  {
   "cell_type": "code",
   "execution_count": 59,
   "metadata": {},
   "outputs": [],
   "source": [
    "df_month['MShare'] = df_month['RSales']/ df_month.groupby(level= 0).sum()['RSales']"
   ]
  },
  {
   "cell_type": "code",
   "execution_count": 61,
   "metadata": {},
   "outputs": [],
   "source": [
    "df_month= df_month.reset_index()"
   ]
  },
  {
   "cell_type": "code",
   "execution_count": null,
   "metadata": {},
   "outputs": [],
   "source": []
  },
  {
   "cell_type": "code",
   "execution_count": 62,
   "metadata": {},
   "outputs": [
    {
     "data": {
      "text/html": [
       "<div>\n",
       "<style scoped>\n",
       "    .dataframe tbody tr th:only-of-type {\n",
       "        vertical-align: middle;\n",
       "    }\n",
       "\n",
       "    .dataframe tbody tr th {\n",
       "        vertical-align: top;\n",
       "    }\n",
       "\n",
       "    .dataframe thead th {\n",
       "        text-align: right;\n",
       "    }\n",
       "</style>\n",
       "<table border=\"1\" class=\"dataframe\">\n",
       "  <thead>\n",
       "    <tr style=\"text-align: right;\">\n",
       "      <th></th>\n",
       "      <th>InvoiceDate</th>\n",
       "      <th>Genre</th>\n",
       "      <th>RSales</th>\n",
       "      <th>MShare</th>\n",
       "    </tr>\n",
       "  </thead>\n",
       "  <tbody>\n",
       "    <tr>\n",
       "      <th>0</th>\n",
       "      <td>2011-01-31</td>\n",
       "      <td>Metal</td>\n",
       "      <td>12.87</td>\n",
       "      <td>0.393939</td>\n",
       "    </tr>\n",
       "    <tr>\n",
       "      <th>1</th>\n",
       "      <td>2011-01-31</td>\n",
       "      <td>R&amp;B/Soul</td>\n",
       "      <td>8.91</td>\n",
       "      <td>0.272727</td>\n",
       "    </tr>\n",
       "    <tr>\n",
       "      <th>2</th>\n",
       "      <td>2011-01-31</td>\n",
       "      <td>Rock</td>\n",
       "      <td>10.89</td>\n",
       "      <td>0.333333</td>\n",
       "    </tr>\n",
       "    <tr>\n",
       "      <th>3</th>\n",
       "      <td>2011-03-31</td>\n",
       "      <td>Metal</td>\n",
       "      <td>10.89</td>\n",
       "      <td>1.000000</td>\n",
       "    </tr>\n",
       "    <tr>\n",
       "      <th>4</th>\n",
       "      <td>2011-04-30</td>\n",
       "      <td>Latin</td>\n",
       "      <td>5.94</td>\n",
       "      <td>0.166667</td>\n",
       "    </tr>\n",
       "  </tbody>\n",
       "</table>\n",
       "</div>"
      ],
      "text/plain": [
       "  InvoiceDate     Genre  RSales    MShare\n",
       "0  2011-01-31     Metal   12.87  0.393939\n",
       "1  2011-01-31  R&B/Soul    8.91  0.272727\n",
       "2  2011-01-31      Rock   10.89  0.333333\n",
       "3  2011-03-31     Metal   10.89  1.000000\n",
       "4  2011-04-30     Latin    5.94  0.166667"
      ]
     },
     "execution_count": 62,
     "metadata": {},
     "output_type": "execute_result"
    }
   ],
   "source": [
    "df_month.head()"
   ]
  },
  {
   "cell_type": "code",
   "execution_count": 63,
   "metadata": {},
   "outputs": [],
   "source": [
    "df_month['month_year'] = df_month.InvoiceDate.dt.to_period('M')\n"
   ]
  },
  {
   "cell_type": "code",
   "execution_count": 65,
   "metadata": {
    "collapsed": true
   },
   "outputs": [],
   "source": [
    "df_us_r = df_month.query(\"Genre == 'Rock'\")"
   ]
  },
  {
   "cell_type": "code",
   "execution_count": 66,
   "metadata": {},
   "outputs": [
    {
     "data": {
      "text/html": [
       "<div>\n",
       "<style scoped>\n",
       "    .dataframe tbody tr th:only-of-type {\n",
       "        vertical-align: middle;\n",
       "    }\n",
       "\n",
       "    .dataframe tbody tr th {\n",
       "        vertical-align: top;\n",
       "    }\n",
       "\n",
       "    .dataframe thead th {\n",
       "        text-align: right;\n",
       "    }\n",
       "</style>\n",
       "<table border=\"1\" class=\"dataframe\">\n",
       "  <thead>\n",
       "    <tr style=\"text-align: right;\">\n",
       "      <th></th>\n",
       "      <th>InvoiceDate</th>\n",
       "      <th>Genre</th>\n",
       "      <th>RSales</th>\n",
       "      <th>MShare</th>\n",
       "      <th>month_year</th>\n",
       "    </tr>\n",
       "  </thead>\n",
       "  <tbody>\n",
       "    <tr>\n",
       "      <th>2</th>\n",
       "      <td>2011-01-31</td>\n",
       "      <td>Rock</td>\n",
       "      <td>10.89</td>\n",
       "      <td>0.333333</td>\n",
       "      <td>2011-01</td>\n",
       "    </tr>\n",
       "    <tr>\n",
       "      <th>6</th>\n",
       "      <td>2011-04-30</td>\n",
       "      <td>Rock</td>\n",
       "      <td>14.85</td>\n",
       "      <td>0.416667</td>\n",
       "      <td>2011-04</td>\n",
       "    </tr>\n",
       "    <tr>\n",
       "      <th>9</th>\n",
       "      <td>2011-06-30</td>\n",
       "      <td>Rock</td>\n",
       "      <td>18.81</td>\n",
       "      <td>0.826087</td>\n",
       "      <td>2011-06</td>\n",
       "    </tr>\n",
       "    <tr>\n",
       "      <th>13</th>\n",
       "      <td>2011-08-31</td>\n",
       "      <td>Rock</td>\n",
       "      <td>12.87</td>\n",
       "      <td>0.244352</td>\n",
       "      <td>2011-08</td>\n",
       "    </tr>\n",
       "    <tr>\n",
       "      <th>22</th>\n",
       "      <td>2011-11-30</td>\n",
       "      <td>Rock</td>\n",
       "      <td>13.86</td>\n",
       "      <td>0.500000</td>\n",
       "      <td>2011-11</td>\n",
       "    </tr>\n",
       "    <tr>\n",
       "      <th>26</th>\n",
       "      <td>2011-12-31</td>\n",
       "      <td>Rock</td>\n",
       "      <td>11.88</td>\n",
       "      <td>0.300000</td>\n",
       "      <td>2011-12</td>\n",
       "    </tr>\n",
       "    <tr>\n",
       "      <th>29</th>\n",
       "      <td>2012-02-29</td>\n",
       "      <td>Rock</td>\n",
       "      <td>23.76</td>\n",
       "      <td>0.648649</td>\n",
       "      <td>2012-02</td>\n",
       "    </tr>\n",
       "    <tr>\n",
       "      <th>34</th>\n",
       "      <td>2012-04-30</td>\n",
       "      <td>Rock</td>\n",
       "      <td>10.89</td>\n",
       "      <td>0.189655</td>\n",
       "      <td>2012-04</td>\n",
       "    </tr>\n",
       "    <tr>\n",
       "      <th>39</th>\n",
       "      <td>2012-09-30</td>\n",
       "      <td>Rock</td>\n",
       "      <td>1.98</td>\n",
       "      <td>0.133333</td>\n",
       "      <td>2012-09</td>\n",
       "    </tr>\n",
       "    <tr>\n",
       "      <th>44</th>\n",
       "      <td>2012-10-31</td>\n",
       "      <td>Rock</td>\n",
       "      <td>39.60</td>\n",
       "      <td>0.540541</td>\n",
       "      <td>2012-10</td>\n",
       "    </tr>\n",
       "    <tr>\n",
       "      <th>45</th>\n",
       "      <td>2012-11-30</td>\n",
       "      <td>Rock</td>\n",
       "      <td>0.99</td>\n",
       "      <td>1.000000</td>\n",
       "      <td>2012-11</td>\n",
       "    </tr>\n",
       "    <tr>\n",
       "      <th>46</th>\n",
       "      <td>2012-12-31</td>\n",
       "      <td>Rock</td>\n",
       "      <td>25.74</td>\n",
       "      <td>1.000000</td>\n",
       "      <td>2012-12</td>\n",
       "    </tr>\n",
       "  </tbody>\n",
       "</table>\n",
       "</div>"
      ],
      "text/plain": [
       "   InvoiceDate Genre  RSales    MShare month_year\n",
       "2   2011-01-31  Rock   10.89  0.333333    2011-01\n",
       "6   2011-04-30  Rock   14.85  0.416667    2011-04\n",
       "9   2011-06-30  Rock   18.81  0.826087    2011-06\n",
       "13  2011-08-31  Rock   12.87  0.244352    2011-08\n",
       "22  2011-11-30  Rock   13.86  0.500000    2011-11\n",
       "26  2011-12-31  Rock   11.88  0.300000    2011-12\n",
       "29  2012-02-29  Rock   23.76  0.648649    2012-02\n",
       "34  2012-04-30  Rock   10.89  0.189655    2012-04\n",
       "39  2012-09-30  Rock    1.98  0.133333    2012-09\n",
       "44  2012-10-31  Rock   39.60  0.540541    2012-10\n",
       "45  2012-11-30  Rock    0.99  1.000000    2012-11\n",
       "46  2012-12-31  Rock   25.74  1.000000    2012-12"
      ]
     },
     "execution_count": 66,
     "metadata": {},
     "output_type": "execute_result"
    }
   ],
   "source": [
    "df_us_r"
   ]
  },
  {
   "cell_type": "code",
   "execution_count": null,
   "metadata": {},
   "outputs": [],
   "source": []
  },
  {
   "cell_type": "code",
   "execution_count": 99,
   "metadata": {},
   "outputs": [
    {
     "data": {
      "image/png": "[encoded data removed]",
      "text/plain": [
       "<Figure size 792x576 with 1 Axes>"
      ]
     },
     "metadata": {},
     "output_type": "display_data"
    }
   ],
   "source": [
    "sns.set(style=\"darkgrid\")\n",
    "\n",
    "# Plot the responses for different events and regions\n",
    "ax = sns.lineplot(x=\"InvoiceDate\", y=\"MShare\",\n",
    "             data=df_us_r,  estimator =nanmean)\n",
    "plt.xlim(\"2011-1-1\", \"2012-12-31\")\n",
    "ax.set(title = 'Rock music Monthly Market Share', xlabel='Year Month', ylabel='Market Share')\n",
    "plt.show()\n"
   ]
  },
  {
   "cell_type": "code",
   "execution_count": null,
   "metadata": {
    "collapsed": true
   },
   "outputs": [],
   "source": []
  }
 ],
 "metadata": {
  "kernelspec": {
   "display_name": "Python 3",
   "language": "python",
   "name": "python3"
  },
  "language_info": {
   "codemirror_mode": {
    "name": "ipython",
    "version": 3
   },
   "file_extension": ".py",
   "mimetype": "text/x-python",
   "name": "python",
   "nbconvert_exporter": "python",
   "pygments_lexer": "ipython3",
   "version": "3.6.3"
  }
 },
 "nbformat": 4,
 "nbformat_minor": 2
}
